{
 "cells": [
  {
   "cell_type": "code",
   "execution_count": 1,
   "metadata": {},
   "outputs": [
    {
     "name": "stdout",
     "output_type": "stream",
     "text": [
      "dupa\n"
     ]
    }
   ],
   "source": [
    "print(\"dupa\")"
   ]
  },
  {
   "cell_type": "code",
   "execution_count": 7,
   "metadata": {},
   "outputs": [
    {
     "ename": "ModuleNotFoundError",
     "evalue": "No module named 'cv2'",
     "output_type": "error",
     "traceback": [
      "\u001b[1;31m---------------------------------------------------------------------------\u001b[0m",
      "\u001b[1;31mModuleNotFoundError\u001b[0m                       Traceback (most recent call last)",
      "Cell \u001b[1;32mIn[7], line 1\u001b[0m\n\u001b[1;32m----> 1\u001b[0m \u001b[38;5;28;01mimport\u001b[39;00m \u001b[38;5;21;01mcv2\u001b[39;00m\n\u001b[0;32m      2\u001b[0m \u001b[38;5;28;01mimport\u001b[39;00m \u001b[38;5;21;01mmatplotlib\u001b[39;00m\u001b[38;5;21;01m.\u001b[39;00m\u001b[38;5;21;01mpyplot\u001b[39;00m \u001b[38;5;28;01mas\u001b[39;00m \u001b[38;5;21;01mplt\u001b[39;00m\n\u001b[0;32m      4\u001b[0m \u001b[38;5;66;03m# Ścieżka do pliku\u001b[39;00m\n",
      "\u001b[1;31mModuleNotFoundError\u001b[0m: No module named 'cv2'"
     ]
    }
   ],
   "source": [
    "import cv2\n",
    "import matplotlib.pyplot as plt\n",
    "\n",
    "# Ścieżka do pliku\n",
    "input_path = 'blitz.png'\n",
    "\n",
    "# Wczytanie obrazu\n",
    "img = cv2.imread(input_path)\n",
    "if img is None:\n",
    "    raise FileNotFoundError(f\"Nie można wczytać obrazu: {input_path}\")\n",
    "\n",
    "# Definicja regionów: (x, y, width, height)\n",
    "regions = {\n",
    "    # Grupa flop\n",
    "    'f1-rank': (641, 536, 59, 79),\n",
    "    'f1-suit': (641, 630, 56, 68),\n",
    "    'f2-rank': (813, 536, 59, 79),\n",
    "    'f2-suit': (813, 630, 56, 68),\n",
    "    'f3-rank': (990, 536, 59, 79),\n",
    "    'f3-suit': (990, 630, 56, 68),\n",
    "    'f4-rank': (1165, 536, 59, 79),\n",
    "    'f4-suit': (1165, 630, 56, 68),\n",
    "    'f5-rank': (1340, 536, 59, 79),\n",
    "    'f5-suit': (1340, 630, 56, 68),\n",
    "    # Grupa hand1\n",
    "    'h1-1-rank': (635, 816, 66, 76),\n",
    "    'h1-1-suit': (649, 915, 51, 53),\n",
    "    'h1-2-rank': (733, 808, 59, 79),\n",
    "    'h1-2-suit': (729, 909, 47, 51),\n",
    "    # Grupa hand2\n",
    "    'h2-1-rank': (1255, 803, 61, 95),\n",
    "    'h2-1-suit': (1255, 910, 51, 53),\n",
    "    'h2-2-rank': (1346, 808, 59, 79),\n",
    "    'h2-2-suit': (1331, 900, 52, 59),\n",
    "}\n",
    "\n",
    "# Kolory dla różnych grup (BGR)\n",
    "colors = {\n",
    "    'f': (0, 255, 0),   # zielony dla flop\n",
    "    'h1': (255, 0, 0),  # niebieski dla hand1\n",
    "    'h2': (0, 0, 255),  # czerwony dla hand2\n",
    "}\n",
    "\n",
    "# Rysowanie prostokątów i podpisów\n",
    "for label, (x, y, w, h) in regions.items():\n",
    "    prefix = label.split('-')[0]\n",
    "    color = colors.get(prefix, (255, 255, 255))\n",
    "    pt1 = (x, y)\n",
    "    pt2 = (x + w, y + h)\n",
    "    cv2.rectangle(img, pt1, pt2, color, 2)\n",
    "    cv2.putText(img, label, (x, y - 10),\n",
    "                cv2.FONT_HERSHEY_SIMPLEX, 0.5, color, 1, cv2.LINE_AA)\n",
    "\n",
    "# Konwersja BGR → RGB\n",
    "img_rgb = cv2.cvtColor(img, cv2.COLOR_BGR2RGB)\n",
    "\n",
    "# Wyświetlenie obrazka\n",
    "plt.figure(figsize=(10, 6))\n",
    "plt.imshow(img_rgb)\n",
    "plt.axis('off')\n",
    "plt.show()\n"
   ]
  }
 ],
 "metadata": {
  "kernelspec": {
   "display_name": "base",
   "language": "python",
   "name": "python3"
  },
  "language_info": {
   "codemirror_mode": {
    "name": "ipython",
    "version": 3
   },
   "file_extension": ".py",
   "mimetype": "text/x-python",
   "name": "python",
   "nbconvert_exporter": "python",
   "pygments_lexer": "ipython3",
   "version": "3.12.7"
  }
 },
 "nbformat": 4,
 "nbformat_minor": 2
}
